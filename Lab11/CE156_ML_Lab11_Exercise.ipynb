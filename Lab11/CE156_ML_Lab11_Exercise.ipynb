{
  "nbformat": 4,
  "nbformat_minor": 0,
  "metadata": {
    "colab": {
      "provenance": [],
      "include_colab_link": true
    },
    "kernelspec": {
      "name": "python3",
      "display_name": "Python 3"
    },
    "language_info": {
      "name": "python"
    }
  },
  "cells": [
    {
      "cell_type": "markdown",
      "metadata": {
        "id": "view-in-github",
        "colab_type": "text"
      },
      "source": [
        "<a href=\"https://colab.research.google.com/github/Mitvirani310/CE156_Mit_Virani/blob/main/Lab11/CE156_ML_Lab11_Exercise.ipynb\" target=\"_parent\"><img src=\"https://colab.research.google.com/assets/colab-badge.svg\" alt=\"Open In Colab\"/></a>"
      ]
    },
    {
      "cell_type": "markdown",
      "source": [
        "# **LAB 11 : EXERCISE**"
      ],
      "metadata": {
        "id": "BOYT0Dz5Btqc"
      }
    },
    {
      "cell_type": "markdown",
      "source": [
        "# Exercise 1 : implement svm on MNIST dataset\n",
        "\n"
      ],
      "metadata": {
        "id": "bK-KbTuZSkhz"
      }
    },
    {
      "cell_type": "code",
      "source": [
        "from sklearn.datasets import load_digits\n",
        "from sklearn.svm import SVC\n",
        "from sklearn.model_selection import train_test_split\n",
        "from sklearn.metrics import accuracy_score,confusion_matrix,precision_score,recall_score\n",
        "\n",
        "def measures(y_true,y_pred):\n",
        "  return {\n",
        "      \"accuracy\":accuracy_score(y_test,y_pred),\n",
        "      \"precision\":precision_score(y_test,y_pred,average='micro'),\n",
        "      \"recall\":recall_score(y_test,y_pred,average='micro')\n",
        "  }\n",
        "  pass\n",
        "\n",
        "ds=load_digits()\n",
        "X=ds.data\n",
        "y=ds.target\n",
        "X_train,X_test,y_train,y_test=train_test_split(X,y,test_size=0.2,random_state=156)\n",
        "# model=SVC(C=1,kernel=\"linear\").fit(X_train,y_train)\n",
        "# model=SVC(C=1,kernel=\"rbf\").fit(X_train,y_train)\n",
        "model=SVC(C=1,kernel=\"poly\").fit(X_train,y_train)\n",
        "\n",
        "y_pred=model.predict(X_test)\n",
        "\n",
        "metrics=measures(y_test,y_pred)\n",
        "\n",
        "for metric in metrics:\n",
        "  print(metric,metrics[metric])\n",
        "\n"
      ],
      "metadata": {
        "colab": {
          "base_uri": "https://localhost:8080/"
        },
        "id": "PpcQk0TlUNdL",
        "outputId": "060e49dc-ca38-4b61-ad50-8a0f0932ae0c"
      },
      "execution_count": null,
      "outputs": [
        {
          "output_type": "stream",
          "name": "stdout",
          "text": [
            "accuracy 0.9861111111111112\n",
            "precision 0.9861111111111112\n",
            "recall 0.9861111111111112\n"
          ]
        }
      ]
    }
  ]
}