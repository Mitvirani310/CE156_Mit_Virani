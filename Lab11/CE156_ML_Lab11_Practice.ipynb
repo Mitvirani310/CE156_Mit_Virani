{
  "cells": [
    {
      "cell_type": "markdown",
      "metadata": {
        "id": "view-in-github",
        "colab_type": "text"
      },
      "source": [
        "<a href=\"https://colab.research.google.com/github/Mitvirani310/CE156_Mit_Virani/blob/main/Lab11/CE156_ML_Lab11_Practice.ipynb\" target=\"_parent\"><img src=\"https://colab.research.google.com/assets/colab-badge.svg\" alt=\"Open In Colab\"/></a>"
      ]
    },
    {
      "cell_type": "markdown",
      "metadata": {
        "id": "WzY3jQhhCGUf"
      },
      "source": [
        "# **LAB 11 : LABWORK**"
      ]
    },
    {
      "cell_type": "markdown",
      "metadata": {
        "id": "iFrIlPfEK8FP"
      },
      "source": [
        "# To perform linear svm on make blob dataset \n",
        "A) C = 2"
      ]
    },
    {
      "cell_type": "code",
      "execution_count": null,
      "metadata": {
        "colab": {
          "base_uri": "https://localhost:8080/"
        },
        "id": "uhE__2F_K5rN",
        "outputId": "74ca6808-3f4a-425f-8931-0d152cfbbd66"
      },
      "outputs": [
        {
          "name": "stdout",
          "output_type": "stream",
          "text": [
            "[[ 984    0]\n",
            " [   0 1016]]\n",
            "accuracy 1.0\n",
            "precision 1.0\n",
            "recall 1.0\n"
          ]
        }
      ],
      "source": [
        "from sklearn.datasets import make_blobs\n",
        "from sklearn.svm import SVC\n",
        "from sklearn.model_selection import train_test_split\n",
        "from sklearn.metrics import accuracy_score,confusion_matrix,precision_score,recall_score\n",
        "\n",
        "def measures(y_test,y_pred):\n",
        "  print(confusion_matrix(y_test,y_pred))\n",
        "  return {\n",
        "      \"accuracy\":accuracy_score(y_test,y_pred),\n",
        "      \"precision\":precision_score(y_test,y_pred,average='micro'),\n",
        "      \"recall\":recall_score(y_test,y_pred,average='micro')\n",
        "  }\n",
        "  pass\n",
        "\n",
        "X,y=make_blobs(n_samples=10000,centers=2,n_features=4)\n",
        "X_train,X_test,y_train,y_test=train_test_split(X,y,test_size=0.2,random_state=156)\n",
        "model=SVC(C=2).fit(X_train,y_train)\n",
        "y_pred=model.predict(X_test)\n",
        "\n",
        "metrics=measures(y_test,y_pred)\n",
        "\n",
        "for metric in metrics:\n",
        "  print(metric,metrics[metric])\n",
        "\n"
      ]
    },
    {
      "cell_type": "markdown",
      "metadata": {
        "id": "87S3JdoWCa-F"
      },
      "source": [
        "B) C = 300\n"
      ]
    },
    {
      "cell_type": "code",
      "execution_count": null,
      "metadata": {
        "colab": {
          "base_uri": "https://localhost:8080/"
        },
        "id": "43qxgApuCcNi",
        "outputId": "ca4decd3-0c44-46a0-fe52-6a98407ae3f8"
      },
      "outputs": [
        {
          "name": "stdout",
          "output_type": "stream",
          "text": [
            "[[ 985    0]\n",
            " [   0 1015]]\n",
            "accuracy 1.0\n",
            "precision 1.0\n",
            "recall 1.0\n"
          ]
        }
      ],
      "source": [
        "from sklearn.datasets import make_blobs\n",
        "from sklearn.svm import SVC\n",
        "from sklearn.model_selection import train_test_split\n",
        "from sklearn.metrics import accuracy_score,confusion_matrix,precision_score,recall_score\n",
        "\n",
        "def measures(y_test,y_pred):\n",
        "  print(confusion_matrix(y_test,y_pred))\n",
        "  return {\n",
        "      \"accuracy\":accuracy_score(y_test,y_pred),\n",
        "      \"precision\":precision_score(y_test,y_pred,average='micro'),\n",
        "      \"recall\":recall_score(y_test,y_pred,average='micro')\n",
        "  }\n",
        "  pass\n",
        "\n",
        "X,y=make_blobs(n_samples=10000,centers=2,n_features=4)\n",
        "X_train,X_test,y_train,y_test=train_test_split(X,y,test_size=0.2,random_state=156)\n",
        "model=SVC(C=300).fit(X_train,y_train)\n",
        "y_pred=model.predict(X_test)\n",
        "\n",
        "metrics=measures(y_test,y_pred)\n",
        "\n",
        "for metric in metrics:\n",
        "  print(metric,metrics[metric])\n",
        "\n"
      ]
    },
    {
      "cell_type": "markdown",
      "metadata": {
        "id": "b86UxmDMMOaI"
      },
      "source": [
        "# To use linear svm on breast cancer dataset\n",
        "A) C = 2\n",
        "\n"
      ]
    },
    {
      "cell_type": "code",
      "execution_count": null,
      "metadata": {
        "id": "ISCsnrejMS6n"
      },
      "outputs": [],
      "source": [
        "from sklearn.datasets import load_breast_cancer\n",
        "from sklearn.svm import SVC\n",
        "from sklearn.model_selection import train_test_split\n",
        "from sklearn.metrics import accuracy_score,confusion_matrix\n",
        "\n",
        "def measures(y_true,y_pred):\n",
        "  cmat=confusion_matrix(y_true=y_test,y_pred=y_pred)\n",
        "  tn, fp, fn, tp=cmat.ravel()\n",
        "  print(\"tn : \",tn,\" , fp : \",fp,\" , fn : \",fn,\" , tp : \",tp)\n",
        "  return {\n",
        "      \"accuracy\":(tn+tp)/(tn+fp+fn+tp),\n",
        "      \"precision\":(tp)/(fp+tp),\n",
        "      \"recall\":(tp)/(fn+tp)\n",
        "  }\n",
        "  pass\n",
        "\n",
        "ds=load_breast_cancer()\n",
        "X=ds.data\n",
        "y=ds.target\n",
        "X_train,X_test,y_train,y_test=train_test_split(X,y,test_size=0.2,random_state=156)\n",
        "model=SVC(kernel=\"linear\",C=2).fit(X_train,y_train)\n",
        "\n",
        "# tn :  34  , fp :  3  , fn :  1  , tp :  76\n",
        "# accuracy 0.9649122807017544\n",
        "# precision 0.9620253164556962\n",
        "# recall 0.987012987012987\n",
        "\n",
        "\n",
        "# model=SVC(kernel=\"rbf\",C=2).fit(X_train,y_train)\n",
        "# tn :  31  , fp :  6  , fn :  2  , tp :  75\n",
        "# accuracy 0.9298245614035088\n",
        "# precision 0.9259259259259259\n",
        "# recall 0.974025974025974\n",
        "\n",
        "# model=SVC(kernel=\"poly\",C=2).fit(X_train,y_train)\n",
        "\n",
        "# tn :  30  , fp :  7  , fn :  2  , tp :  75\n",
        "# accuracy 0.9210526315789473\n",
        "# precision 0.9146341463414634\n",
        "# recall 0.974025974025974\n",
        "\n",
        "y_pred=model.predict(X_test)\n",
        "\n",
        "metrics=measures(y_test,y_pred)\n",
        "\n",
        "for metric in metrics:\n",
        "  print(metric,metrics[metric])\n",
        "\n"
      ]
    },
    {
      "cell_type": "markdown",
      "metadata": {
        "id": "wI-tdnH7Ci6x"
      },
      "source": [
        "B) C = 300\n"
      ]
    },
    {
      "cell_type": "code",
      "execution_count": null,
      "metadata": {
        "colab": {
          "background_save": true
        },
        "id": "9fJPLR8TClD-",
        "outputId": "f98c9d8f-4c06-4955-ad73-b7a6a604e0a0"
      },
      "outputs": [
        {
          "name": "stdout",
          "output_type": "stream",
          "text": [
            "tn :  35  , fp :  2  , fn :  3  , tp :  74\n",
            "accuracy 0.956140350877193\n",
            "precision 0.9736842105263158\n",
            "recall 0.961038961038961\n"
          ]
        }
      ],
      "source": [
        "from sklearn.datasets import load_breast_cancer\n",
        "from sklearn.svm import SVC\n",
        "from sklearn.model_selection import train_test_split\n",
        "from sklearn.metrics import accuracy_score,confusion_matrix\n",
        "\n",
        "def measures(y_true,y_pred):\n",
        "  cmat=confusion_matrix(y_true=y_test,y_pred=y_pred)\n",
        "  tn, fp, fn, tp=cmat.ravel()\n",
        "  print(\"tn : \",tn,\" , fp : \",fp,\" , fn : \",fn,\" , tp : \",tp)\n",
        "  return {\n",
        "      \"accuracy\":(tn+tp)/(tn+fp+fn+tp),\n",
        "      \"precision\":(tp)/(fp+tp),\n",
        "      \"recall\":(tp)/(fn+tp)\n",
        "  }\n",
        "  pass\n",
        "\n",
        "ds=load_breast_cancer()\n",
        "X=ds.data\n",
        "y=ds.target\n",
        "X_train,X_test,y_train,y_test=train_test_split(X,y,test_size=0.2,random_state=156)\n",
        "\n",
        "model=SVC(kernel=\"linear\",C=300).fit(X_train,y_train)\n",
        "\n",
        "# tn :  35  , fp :  2  , fn :  3  , tp :  74\n",
        "# accuracy 0.956140350877193\n",
        "# precision 0.9736842105263158\n",
        "# recall 0.961038961038961\n",
        "\n",
        "\n",
        "# model=SVC(kernel=\"rbf\",C=300).fit(X_train,y_train)\n",
        "\n",
        "\n",
        "# tn :  31  , fp :  6  , fn :  1  , tp :  76\n",
        "# accuracy 0.9385964912280702\n",
        "# precision 0.926829268292683\n",
        "# recall 0.987012987012987\n",
        "\n",
        "\n",
        "# model=SVC(kernel=\"poly\",C=300).fit(X_train,y_train)\n",
        "\n",
        "# tn :  32  , fp :  5  , fn :  3  , tp :  74\n",
        "# accuracy 0.9298245614035088\n",
        "# precision 0.9367088607594937T\n",
        "# recall 0.961038961038961\n",
        "\n",
        "\n",
        "\n",
        "y_pred=model.predict(X_test)\n",
        "\n",
        "metrics=measures(y_test,y_pred)\n",
        "\n",
        "for metric in metrics:\n",
        "  print(metric,metrics[metric])\n",
        "\n"
      ]
    }
  ],
  "metadata": {
    "colab": {
      "provenance": [],
      "include_colab_link": true
    },
    "kernelspec": {
      "display_name": "Python 3",
      "name": "python3"
    },
    "language_info": {
      "name": "python"
    }
  },
  "nbformat": 4,
  "nbformat_minor": 0
}